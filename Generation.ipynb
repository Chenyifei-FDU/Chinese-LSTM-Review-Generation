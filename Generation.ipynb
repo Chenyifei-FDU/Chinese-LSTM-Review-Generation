{
 "cells": [
  {
   "cell_type": "code",
   "execution_count": 1,
   "metadata": {
    "collapsed": false
   },
   "outputs": [
    {
     "name": "stderr",
     "output_type": "stream",
     "text": [
      "Using TensorFlow backend.\n"
     ]
    }
   ],
   "source": [
    "import keras\n",
    "import load\n",
    "from keras.preprocessing.sequence import pad_sequences\n",
    "from load import sentence2vector\n",
    "from load import vector2sentence\n",
    "import numpy as np"
   ]
  },
  {
   "cell_type": "code",
   "execution_count": 2,
   "metadata": {
    "collapsed": false
   },
   "outputs": [
    {
     "name": "stderr",
     "output_type": "stream",
     "text": [
      "C:\\Users\\asus\\Anaconda3\\lib\\site-packages\\keras\\engine\\topology.py:1253: UserWarning: The `Merge` layer is deprecated and will be removed after 08/2017. Use instead layers from `keras.layers.merge`, e.g. `add`, `concatenate`, etc.\n",
      "  return cls(**config)\n"
     ]
    }
   ],
   "source": [
    "\n",
    "model = keras.models.load_model(filepath='./models/lstm_attention_iteration8_units_256_val-acc_0.314.h5')"
   ]
  },
  {
   "cell_type": "code",
   "execution_count": 3,
   "metadata": {
    "collapsed": false
   },
   "outputs": [],
   "source": [
    "preprocessor = load.Preprocessor(r'./Data')\n",
    "preprocessor.load_word_indice('word_count_10.tsv')\n",
    "MAX_SEQUENCE_LENGTH=32"
   ]
  },
  {
   "cell_type": "code",
   "execution_count": 4,
   "metadata": {
    "collapsed": true
   },
   "outputs": [],
   "source": [
    "def sample(preds, temperature=0.5):\n",
    "    # helper function to sample an index from a probability array\n",
    "    preds = np.asarray(preds).astype('float64')\n",
    "    preds = np.log(preds) / temperature\n",
    "    exp_preds = np.exp(preds)\n",
    "    preds = exp_preds / np.sum(exp_preds)\n",
    "    probas = np.random.multinomial(1, preds, 1)\n",
    "    return np.argmax(probas)"
   ]
  },
  {
   "cell_type": "markdown",
   "metadata": {},
   "source": [
    "### Generation without seed."
   ]
  },
  {
   "cell_type": "code",
   "execution_count": 6,
   "metadata": {
    "collapsed": false
   },
   "outputs": [
    {
     "name": "stderr",
     "output_type": "stream",
     "text": [
      "C:\\Users\\asus\\Anaconda3\\lib\\site-packages\\ipykernel\\__main__.py:4: RuntimeWarning: divide by zero encountered in log\n"
     ]
    },
    {
     "name": "stdout",
     "output_type": "stream",
     "text": [
      "Wall time: 3min 32s\n"
     ]
    }
   ],
   "source": [
    "%%time\n",
    "for score in [1,2,3,4,5]:\n",
    "    with open('./Generation/Generated_without_seed_star_%d.txt'%score,encoding='utf-8',mode='w') as f:\n",
    "    \n",
    "        for _ in range(200):\n",
    "\n",
    "            sentence_vector = ['padding']*(MAX_SEQUENCE_LENGTH-1)+['<sor>']\n",
    "            sentence_vector = sentence2vector(sentence_vector,preprocessor)\n",
    "\n",
    "            score_one_hot=np.zeros([1,5])\n",
    "            score_one_hot[0,score-1]=1\n",
    "            b=score_one_hot\n",
    "            generated_vector=[]\n",
    "            while (True):\n",
    "\n",
    "                a=np.array([sentence_vector])\n",
    "            #     print(\"a.shape\",a.shape)\n",
    "                softmax_vector=model.predict([a,b])[0]\n",
    "\n",
    "                next_index = sample(softmax_vector, temperature=0.7)\n",
    "            #     print(next_index)\n",
    "                if next_index == 3:\n",
    "                    break\n",
    "                sentence_vector.pop(0)\n",
    "                sentence_vector.append(next_index)\n",
    "                generated_vector.append(next_index)\n",
    "\n",
    "            # print(sentence_vector)\n",
    "            generated=' '.join(vector2sentence(generated_vector,preprocessor))\n",
    "            f.write(generated)\n",
    "            f.write('\\n')"
   ]
  },
  {
   "cell_type": "markdown",
   "metadata": {
    "collapsed": true
   },
   "source": [
    "### Generation with random seed"
   ]
  },
  {
   "cell_type": "code",
   "execution_count": null,
   "metadata": {
    "collapsed": true
   },
   "outputs": [],
   "source": []
  }
 ],
 "metadata": {
  "anaconda-cloud": {},
  "kernelspec": {
   "display_name": "Python [conda root]",
   "language": "python",
   "name": "conda-root-py"
  },
  "language_info": {
   "codemirror_mode": {
    "name": "ipython",
    "version": 3
   },
   "file_extension": ".py",
   "mimetype": "text/x-python",
   "name": "python",
   "nbconvert_exporter": "python",
   "pygments_lexer": "ipython3",
   "version": "3.5.2"
  }
 },
 "nbformat": 4,
 "nbformat_minor": 1
}
